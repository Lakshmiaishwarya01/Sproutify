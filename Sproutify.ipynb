{
  "cells": [
    {
      "cell_type": "markdown",
      "metadata": {
        "id": "view-in-github",
        "colab_type": "text"
      },
      "source": [
        "<a href=\"https://colab.research.google.com/github/Lakshmiaishwarya01/Sproutify/blob/main/Sproutify.ipynb\" target=\"_parent\"><img src=\"https://colab.research.google.com/assets/colab-badge.svg\" alt=\"Open In Colab\"/></a>"
      ]
    },
    {
      "cell_type": "code",
      "execution_count": null,
      "metadata": {
        "colab": {
          "base_uri": "https://localhost:8080/"
        },
        "id": "jK9Y-KsTPm4l",
        "outputId": "6936e152-8ba3-4b67-bc64-bb805c4a9149"
      },
      "outputs": [
        {
          "name": "stdout",
          "output_type": "stream",
          "text": [
            "Requirement already satisfied: firebase-admin in /usr/local/lib/python3.11/dist-packages (6.6.0)\n",
            "Requirement already satisfied: pandas in /usr/local/lib/python3.11/dist-packages (2.2.2)\n",
            "Requirement already satisfied: numpy in /usr/local/lib/python3.11/dist-packages (1.26.4)\n",
            "Requirement already satisfied: scikit-learn in /usr/local/lib/python3.11/dist-packages (1.6.1)\n",
            "Requirement already satisfied: cachecontrol>=0.12.14 in /usr/local/lib/python3.11/dist-packages (from firebase-admin) (0.14.2)\n",
            "Requirement already satisfied: google-api-python-client>=1.7.8 in /usr/local/lib/python3.11/dist-packages (from firebase-admin) (2.160.0)\n",
            "Requirement already satisfied: google-cloud-storage>=1.37.1 in /usr/local/lib/python3.11/dist-packages (from firebase-admin) (2.19.0)\n",
            "Requirement already satisfied: pyjwt>=2.5.0 in /usr/local/lib/python3.11/dist-packages (from pyjwt[crypto]>=2.5.0->firebase-admin) (2.10.1)\n",
            "Requirement already satisfied: google-api-core<3.0.0dev,>=1.22.1 in /usr/local/lib/python3.11/dist-packages (from google-api-core[grpc]<3.0.0dev,>=1.22.1; platform_python_implementation != \"PyPy\"->firebase-admin) (2.19.2)\n",
            "Requirement already satisfied: google-cloud-firestore>=2.19.0 in /usr/local/lib/python3.11/dist-packages (from firebase-admin) (2.20.0)\n",
            "Requirement already satisfied: python-dateutil>=2.8.2 in /usr/local/lib/python3.11/dist-packages (from pandas) (2.8.2)\n",
            "Requirement already satisfied: pytz>=2020.1 in /usr/local/lib/python3.11/dist-packages (from pandas) (2025.1)\n",
            "Requirement already satisfied: tzdata>=2022.7 in /usr/local/lib/python3.11/dist-packages (from pandas) (2025.1)\n",
            "Requirement already satisfied: scipy>=1.6.0 in /usr/local/lib/python3.11/dist-packages (from scikit-learn) (1.13.1)\n",
            "Requirement already satisfied: joblib>=1.2.0 in /usr/local/lib/python3.11/dist-packages (from scikit-learn) (1.4.2)\n",
            "Requirement already satisfied: threadpoolctl>=3.1.0 in /usr/local/lib/python3.11/dist-packages (from scikit-learn) (3.5.0)\n",
            "Requirement already satisfied: requests>=2.16.0 in /usr/local/lib/python3.11/dist-packages (from cachecontrol>=0.12.14->firebase-admin) (2.32.3)\n",
            "Requirement already satisfied: msgpack<2.0.0,>=0.5.2 in /usr/local/lib/python3.11/dist-packages (from cachecontrol>=0.12.14->firebase-admin) (1.1.0)\n",
            "Requirement already satisfied: googleapis-common-protos<2.0.dev0,>=1.56.2 in /usr/local/lib/python3.11/dist-packages (from google-api-core<3.0.0dev,>=1.22.1->google-api-core[grpc]<3.0.0dev,>=1.22.1; platform_python_implementation != \"PyPy\"->firebase-admin) (1.66.0)\n",
            "Requirement already satisfied: protobuf!=3.20.0,!=3.20.1,!=4.21.0,!=4.21.1,!=4.21.2,!=4.21.3,!=4.21.4,!=4.21.5,<6.0.0.dev0,>=3.19.5 in /usr/local/lib/python3.11/dist-packages (from google-api-core<3.0.0dev,>=1.22.1->google-api-core[grpc]<3.0.0dev,>=1.22.1; platform_python_implementation != \"PyPy\"->firebase-admin) (4.25.6)\n",
            "Requirement already satisfied: proto-plus<2.0.0dev,>=1.22.3 in /usr/local/lib/python3.11/dist-packages (from google-api-core<3.0.0dev,>=1.22.1->google-api-core[grpc]<3.0.0dev,>=1.22.1; platform_python_implementation != \"PyPy\"->firebase-admin) (1.26.0)\n",
            "Requirement already satisfied: google-auth<3.0.dev0,>=2.14.1 in /usr/local/lib/python3.11/dist-packages (from google-api-core<3.0.0dev,>=1.22.1->google-api-core[grpc]<3.0.0dev,>=1.22.1; platform_python_implementation != \"PyPy\"->firebase-admin) (2.27.0)\n",
            "Requirement already satisfied: grpcio<2.0dev,>=1.33.2 in /usr/local/lib/python3.11/dist-packages (from google-api-core[grpc]<3.0.0dev,>=1.22.1; platform_python_implementation != \"PyPy\"->firebase-admin) (1.70.0)\n",
            "Requirement already satisfied: grpcio-status<2.0.dev0,>=1.33.2 in /usr/local/lib/python3.11/dist-packages (from google-api-core[grpc]<3.0.0dev,>=1.22.1; platform_python_implementation != \"PyPy\"->firebase-admin) (1.62.3)\n",
            "Requirement already satisfied: httplib2<1.dev0,>=0.19.0 in /usr/local/lib/python3.11/dist-packages (from google-api-python-client>=1.7.8->firebase-admin) (0.22.0)\n",
            "Requirement already satisfied: google-auth-httplib2<1.0.0,>=0.2.0 in /usr/local/lib/python3.11/dist-packages (from google-api-python-client>=1.7.8->firebase-admin) (0.2.0)\n",
            "Requirement already satisfied: uritemplate<5,>=3.0.1 in /usr/local/lib/python3.11/dist-packages (from google-api-python-client>=1.7.8->firebase-admin) (4.1.1)\n",
            "Requirement already satisfied: google-cloud-core<3.0.0dev,>=1.4.1 in /usr/local/lib/python3.11/dist-packages (from google-cloud-firestore>=2.19.0->firebase-admin) (2.4.1)\n",
            "Requirement already satisfied: google-resumable-media>=2.7.2 in /usr/local/lib/python3.11/dist-packages (from google-cloud-storage>=1.37.1->firebase-admin) (2.7.2)\n",
            "Requirement already satisfied: google-crc32c<2.0dev,>=1.0 in /usr/local/lib/python3.11/dist-packages (from google-cloud-storage>=1.37.1->firebase-admin) (1.6.0)\n",
            "Requirement already satisfied: cryptography>=3.4.0 in /usr/local/lib/python3.11/dist-packages (from pyjwt[crypto]>=2.5.0->firebase-admin) (43.0.3)\n",
            "Requirement already satisfied: six>=1.5 in /usr/local/lib/python3.11/dist-packages (from python-dateutil>=2.8.2->pandas) (1.17.0)\n",
            "Requirement already satisfied: cffi>=1.12 in /usr/local/lib/python3.11/dist-packages (from cryptography>=3.4.0->pyjwt[crypto]>=2.5.0->firebase-admin) (1.17.1)\n",
            "Requirement already satisfied: cachetools<6.0,>=2.0.0 in /usr/local/lib/python3.11/dist-packages (from google-auth<3.0.dev0,>=2.14.1->google-api-core<3.0.0dev,>=1.22.1->google-api-core[grpc]<3.0.0dev,>=1.22.1; platform_python_implementation != \"PyPy\"->firebase-admin) (5.5.1)\n",
            "Requirement already satisfied: pyasn1-modules>=0.2.1 in /usr/local/lib/python3.11/dist-packages (from google-auth<3.0.dev0,>=2.14.1->google-api-core<3.0.0dev,>=1.22.1->google-api-core[grpc]<3.0.0dev,>=1.22.1; platform_python_implementation != \"PyPy\"->firebase-admin) (0.4.1)\n",
            "Requirement already satisfied: rsa<5,>=3.1.4 in /usr/local/lib/python3.11/dist-packages (from google-auth<3.0.dev0,>=2.14.1->google-api-core<3.0.0dev,>=1.22.1->google-api-core[grpc]<3.0.0dev,>=1.22.1; platform_python_implementation != \"PyPy\"->firebase-admin) (4.9)\n",
            "Requirement already satisfied: pyparsing!=3.0.0,!=3.0.1,!=3.0.2,!=3.0.3,<4,>=2.4.2 in /usr/local/lib/python3.11/dist-packages (from httplib2<1.dev0,>=0.19.0->google-api-python-client>=1.7.8->firebase-admin) (3.2.1)\n",
            "Requirement already satisfied: charset-normalizer<4,>=2 in /usr/local/lib/python3.11/dist-packages (from requests>=2.16.0->cachecontrol>=0.12.14->firebase-admin) (3.4.1)\n",
            "Requirement already satisfied: idna<4,>=2.5 in /usr/local/lib/python3.11/dist-packages (from requests>=2.16.0->cachecontrol>=0.12.14->firebase-admin) (3.10)\n",
            "Requirement already satisfied: urllib3<3,>=1.21.1 in /usr/local/lib/python3.11/dist-packages (from requests>=2.16.0->cachecontrol>=0.12.14->firebase-admin) (2.3.0)\n",
            "Requirement already satisfied: certifi>=2017.4.17 in /usr/local/lib/python3.11/dist-packages (from requests>=2.16.0->cachecontrol>=0.12.14->firebase-admin) (2025.1.31)\n",
            "Requirement already satisfied: pycparser in /usr/local/lib/python3.11/dist-packages (from cffi>=1.12->cryptography>=3.4.0->pyjwt[crypto]>=2.5.0->firebase-admin) (2.22)\n",
            "Requirement already satisfied: pyasn1<0.7.0,>=0.4.6 in /usr/local/lib/python3.11/dist-packages (from pyasn1-modules>=0.2.1->google-auth<3.0.dev0,>=2.14.1->google-api-core<3.0.0dev,>=1.22.1->google-api-core[grpc]<3.0.0dev,>=1.22.1; platform_python_implementation != \"PyPy\"->firebase-admin) (0.6.1)\n"
          ]
        }
      ],
      "source": [
        "!pip install firebase-admin pandas numpy scikit-learn"
      ]
    },
    {
      "cell_type": "code",
      "execution_count": null,
      "metadata": {
        "colab": {
          "base_uri": "https://localhost:8080/"
        },
        "id": "sja0GZrWQPAv",
        "outputId": "5e222827-97a7-4ad4-beca-4595ac18bd6a"
      },
      "outputs": [
        {
          "metadata": {
            "tags": null
          },
          "name": "stderr",
          "output_type": "stream",
          "text": [
            "/usr/local/lib/python3.11/dist-packages/sklearn/utils/validation.py:2739: UserWarning: X does not have valid feature names, but LinearRegression was fitted with feature names\n",
            "  warnings.warn(\n",
            "/usr/local/lib/python3.11/dist-packages/sklearn/utils/validation.py:2739: UserWarning: X does not have valid feature names, but LinearRegression was fitted with feature names\n",
            "  warnings.warn(\n"
          ]
        },
        {
          "metadata": {
            "tags": null
          },
          "name": "stdout",
          "output_type": "stream",
          "text": [
            "Pump controls updated successfully\n",
            "Money Plant Pumps: ON\n",
            "Water Lily Pumps: ON\n"
          ]
        },
        {
          "metadata": {
            "tags": null
          },
          "name": "stderr",
          "output_type": "stream",
          "text": [
            "/usr/local/lib/python3.11/dist-packages/sklearn/utils/validation.py:2739: UserWarning: X does not have valid feature names, but LinearRegression was fitted with feature names\n",
            "  warnings.warn(\n",
            "/usr/local/lib/python3.11/dist-packages/sklearn/utils/validation.py:2739: UserWarning: X does not have valid feature names, but LinearRegression was fitted with feature names\n",
            "  warnings.warn(\n"
          ]
        },
        {
          "metadata": {
            "tags": null
          },
          "name": "stdout",
          "output_type": "stream",
          "text": [
            "Pump controls updated successfully\n",
            "Money Plant Pumps: ON\n",
            "Water Lily Pumps: ON\n"
          ]
        },
        {
          "metadata": {
            "tags": null
          },
          "name": "stderr",
          "output_type": "stream",
          "text": [
            "/usr/local/lib/python3.11/dist-packages/sklearn/utils/validation.py:2739: UserWarning: X does not have valid feature names, but LinearRegression was fitted with feature names\n",
            "  warnings.warn(\n",
            "/usr/local/lib/python3.11/dist-packages/sklearn/utils/validation.py:2739: UserWarning: X does not have valid feature names, but LinearRegression was fitted with feature names\n",
            "  warnings.warn(\n"
          ]
        },
        {
          "metadata": {
            "tags": null
          },
          "name": "stdout",
          "output_type": "stream",
          "text": [
            "Pump controls updated successfully\n",
            "Money Plant Pumps: ON\n",
            "Water Lily Pumps: ON\n"
          ]
        },
        {
          "metadata": {
            "tags": null
          },
          "name": "stderr",
          "output_type": "stream",
          "text": [
            "/usr/local/lib/python3.11/dist-packages/sklearn/utils/validation.py:2739: UserWarning: X does not have valid feature names, but LinearRegression was fitted with feature names\n",
            "  warnings.warn(\n",
            "/usr/local/lib/python3.11/dist-packages/sklearn/utils/validation.py:2739: UserWarning: X does not have valid feature names, but LinearRegression was fitted with feature names\n",
            "  warnings.warn(\n"
          ]
        },
        {
          "metadata": {
            "tags": null
          },
          "name": "stdout",
          "output_type": "stream",
          "text": [
            "Pump controls updated successfully\n",
            "Money Plant Pumps: ON\n",
            "Water Lily Pumps: ON\n"
          ]
        },
        {
          "output_type": "stream",
          "name": "stderr",
          "text": [
            "/usr/local/lib/python3.11/dist-packages/sklearn/utils/validation.py:2739: UserWarning: X does not have valid feature names, but LinearRegression was fitted with feature names\n",
            "  warnings.warn(\n",
            "/usr/local/lib/python3.11/dist-packages/sklearn/utils/validation.py:2739: UserWarning: X does not have valid feature names, but LinearRegression was fitted with feature names\n",
            "  warnings.warn(\n"
          ]
        },
        {
          "output_type": "stream",
          "name": "stdout",
          "text": [
            "Pump controls updated successfully\n",
            "Money Plant Pumps: ON\n",
            "Water Lily Pumps: ON\n"
          ]
        },
        {
          "output_type": "stream",
          "name": "stderr",
          "text": [
            "/usr/local/lib/python3.11/dist-packages/sklearn/utils/validation.py:2739: UserWarning: X does not have valid feature names, but LinearRegression was fitted with feature names\n",
            "  warnings.warn(\n",
            "/usr/local/lib/python3.11/dist-packages/sklearn/utils/validation.py:2739: UserWarning: X does not have valid feature names, but LinearRegression was fitted with feature names\n",
            "  warnings.warn(\n"
          ]
        },
        {
          "output_type": "stream",
          "name": "stdout",
          "text": [
            "Pump controls updated successfully\n",
            "Money Plant Pumps: ON\n",
            "Water Lily Pumps: ON\n"
          ]
        },
        {
          "output_type": "stream",
          "name": "stderr",
          "text": [
            "/usr/local/lib/python3.11/dist-packages/sklearn/utils/validation.py:2739: UserWarning: X does not have valid feature names, but LinearRegression was fitted with feature names\n",
            "  warnings.warn(\n",
            "/usr/local/lib/python3.11/dist-packages/sklearn/utils/validation.py:2739: UserWarning: X does not have valid feature names, but LinearRegression was fitted with feature names\n",
            "  warnings.warn(\n"
          ]
        },
        {
          "output_type": "stream",
          "name": "stdout",
          "text": [
            "Pump controls updated successfully\n",
            "Money Plant Pumps: ON\n",
            "Water Lily Pumps: ON\n"
          ]
        },
        {
          "output_type": "stream",
          "name": "stderr",
          "text": [
            "/usr/local/lib/python3.11/dist-packages/sklearn/utils/validation.py:2739: UserWarning: X does not have valid feature names, but LinearRegression was fitted with feature names\n",
            "  warnings.warn(\n",
            "/usr/local/lib/python3.11/dist-packages/sklearn/utils/validation.py:2739: UserWarning: X does not have valid feature names, but LinearRegression was fitted with feature names\n",
            "  warnings.warn(\n"
          ]
        },
        {
          "output_type": "stream",
          "name": "stdout",
          "text": [
            "Pump controls updated successfully\n",
            "Money Plant Pumps: ON\n",
            "Water Lily Pumps: ON\n"
          ]
        },
        {
          "output_type": "stream",
          "name": "stderr",
          "text": [
            "/usr/local/lib/python3.11/dist-packages/sklearn/utils/validation.py:2739: UserWarning: X does not have valid feature names, but LinearRegression was fitted with feature names\n",
            "  warnings.warn(\n",
            "/usr/local/lib/python3.11/dist-packages/sklearn/utils/validation.py:2739: UserWarning: X does not have valid feature names, but LinearRegression was fitted with feature names\n",
            "  warnings.warn(\n"
          ]
        },
        {
          "output_type": "stream",
          "name": "stdout",
          "text": [
            "Pump controls updated successfully\n",
            "Money Plant Pumps: ON\n",
            "Water Lily Pumps: ON\n"
          ]
        }
      ],
      "source": [
        "import firebase_admin\n",
        "from firebase_admin import credentials, db\n",
        "import pandas as pd\n",
        "import numpy as np\n",
        "from sklearn.linear_model import LinearRegression\n",
        "from sklearn.model_selection import train_test_split\n",
        "import time\n",
        "\n",
        "def initialize_firebase():\n",
        "    \"\"\"Initialize Firebase Admin SDK\"\"\"\n",
        "    cred = credentials.Certificate(\n",
        "        \"/content/firebase-sdk.json\"\n",
        "    )\n",
        "    firebase_admin.initialize_app(cred, {\n",
        "        'databaseURL': \"https://sproutify-3a23c-default-rtdb.asia-southeast1.firebasedatabase.app\n",
        "    })\n",
        "\n",
        "def load_historical_data():\n",
        "    \"\"\"Load and preprocess historical training data\"\"\"\n",
        "    # Example historical data structure (replace with your actual dataset)\n",
        "    money_plant_data = {\n",
        "        'moisture': [45, 30, 25, 50, 35, 40, 28, 55, 42, 38],\n",
        "        'temperature': [25, 28, 27, 24, 26, 29, 25, 23, 26, 27],\n",
        "        'humidity': [65, 60, 55, 70, 62, 58, 63, 68, 64, 61],\n",
        "        'pump_status': [1, 1, 1, 0, 1, 1, 1, 0, 0, 1]  # Historical decisions\n",
        "    }\n",
        "\n",
        "    water_lily_data = {\n",
        "        'moisture': [60, 55, 50, 65, 58, 52, 48, 62, 57, 53],\n",
        "        'temperature': [24, 26, 25, 23, 25, 27, 24, 22, 25, 26],\n",
        "        'humidity': [70, 68, 65, 75, 69, 67, 66, 72, 68, 67],\n",
        "        'pump_status': [1, 0, 1, 0, 1, 1, 1, 0, 1, 1]  # Historical decisions\n",
        "    }\n",
        "\n",
        "    return pd.DataFrame(money_plant_data), pd.DataFrame(water_lily_data)\n",
        "\n",
        "def train_models(money_plant_df, water_lily_df):\n",
        "    \"\"\"Train separate models for each plant\"\"\"\n",
        "    models = {}\n",
        "\n",
        "    for plant_name, df in [(\"money_plant\", money_plant_df), (\"water_lily\", water_lily_df)]:\n",
        "        X = df[['moisture', 'temperature', 'humidity']]\n",
        "        y = df['pump_status']\n",
        "\n",
        "        model = LinearRegression()\n",
        "        model.fit(X, y)\n",
        "        models[plant_name] = model\n",
        "\n",
        "    return models\n",
        "\n",
        "def get_current_sensor_data():\n",
        "    \"\"\"Fetch current sensor readings from Firebase\"\"\"\n",
        "    try:\n",
        "        sensor_ref = db.reference('sensors')\n",
        "        sensor_data = sensor_ref.get()\n",
        "\n",
        "        if not sensor_data:\n",
        "            raise ValueError(\"No sensor data available\")\n",
        "\n",
        "        return {\n",
        "            'money_plant': {\n",
        "                'moisture': sensor_data.get('moneyPlant', {}).get('moisture', 0),\n",
        "                'temperature': sensor_data.get('moneyPlant', {}).get('temperature', 0),\n",
        "                'humidity': sensor_data.get('moneyPlant', {}).get('humidity', 0)\n",
        "            },\n",
        "            'water_lily': {\n",
        "                'moisture': sensor_data.get('waterLily', {}).get('moisture', 0),\n",
        "                'temperature': sensor_data.get('waterLily', {}).get('temperature', 0),\n",
        "                'humidity': sensor_data.get('waterLily', {}).get('humidity', 0)\n",
        "            }\n",
        "        }\n",
        "    except Exception as e:\n",
        "        print(f\"Error reading sensor data: {e}\")\n",
        "        return None\n",
        "\n",
        "def predict_pump_status(models, sensor_data):\n",
        "    \"\"\"Make predictions for both plants\"\"\"\n",
        "    predictions = {}\n",
        "\n",
        "    for plant_name in ['money_plant', 'water_lily']:\n",
        "        plant_data = sensor_data[plant_name]\n",
        "        features = np.array([[\n",
        "            plant_data['moisture'],\n",
        "            plant_data['temperature'],\n",
        "            plant_data['humidity']\n",
        "        ]])\n",
        "\n",
        "        # Get prediction and convert to binary\n",
        "        pred = models[plant_name].predict(features)[0]\n",
        "        predictions[plant_name] = 1 if pred >= 0.5 else 0\n",
        "\n",
        "    return predictions\n",
        "\n",
        "def update_pump_controls(predictions):\n",
        "    \"\"\"Update Firebase pump controls based on predictions\"\"\"\n",
        "    try:\n",
        "        pump_ref = db.reference('PumpControl')\n",
        "\n",
        "        # Update pump status for both plants\n",
        "        pump_ref.update({\n",
        "            'moneyPlant': {\n",
        "                'Pump2': predictions['money_plant'],  # Water pump\n",
        "                'Pump3': predictions['money_plant']   # Nutrient pump\n",
        "            },\n",
        "            'waterLily': {\n",
        "                'Pump2': predictions['water_lily'],   # Water pump\n",
        "                'Pump3': predictions['water_lily']    # Nutrient pump\n",
        "            }\n",
        "        })\n",
        "\n",
        "        print(\"Pump controls updated successfully\")\n",
        "        print(f\"Money Plant Pumps: {'ON' if predictions['money_plant'] else 'OFF'}\")\n",
        "        print(f\"Water Lily Pumps: {'ON' if predictions['water_lily'] else 'OFF'}\")\n",
        "\n",
        "    except Exception as e:\n",
        "        print(f\"Error updating pump controls: {e}\")\n",
        "\n",
        "def main():\n",
        "    # Initialize Firebase\n",
        "    initialize_firebase()\n",
        "\n",
        "    # Load and prepare historical data\n",
        "    money_plant_df, water_lily_df = load_historical_data()\n",
        "\n",
        "    # Train models\n",
        "    models = train_models(money_plant_df, water_lily_df)\n",
        "\n",
        "    # Main control loop\n",
        "    while True:\n",
        "        try:\n",
        "            # Get current sensor readings\n",
        "            sensor_data = get_current_sensor_data()\n",
        "\n",
        "            if sensor_data:\n",
        "                # Make predictions\n",
        "                predictions = predict_pump_status(models, sensor_data)\n",
        "\n",
        "                # Update pump controls\n",
        "                update_pump_controls(predictions)\n",
        "\n",
        "            # Wait before next iteration (e.g., every 5 minutes)\n",
        "            time.sleep(300)\n",
        "\n",
        "        except Exception as e:\n",
        "            print(f\"Error in main loop: {e}\")\n",
        "            time.sleep(60)  # Wait a minute before retrying\n",
        "\n",
        "if __name__ == \"__main__\":\n",
        "    main()"
      ]
    },
    {
      "cell_type": "code",
      "execution_count": null,
      "metadata": {
        "id": "8xu6lN99KO6F"
      },
      "outputs": [],
      "source": []
    }
  ],
  "metadata": {
    "colab": {
      "provenance": [],
      "authorship_tag": "ABX9TyPHUlfBjoexv/9OxOQrxzYZ",
      "include_colab_link": true
    },
    "kernelspec": {
      "display_name": "Python 3",
      "name": "python3"
    },
    "language_info": {
      "name": "python"
    }
  },
  "nbformat": 4,
  "nbformat_minor": 0
}